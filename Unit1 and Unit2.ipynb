{
 "cells": [
  {
   "cell_type": "code",
   "execution_count": 8,
   "id": "b0cc0231-772d-4ed5-ab20-813c4d246aa2",
   "metadata": {},
   "outputs": [
    {
     "data": {
      "text/plain": [
       "'\\n I am a student'"
      ]
     },
     "execution_count": 8,
     "metadata": {},
     "output_type": "execute_result"
    }
   ],
   "source": [
    "'''\n",
    " I am a student'''"
   ]
  },
  {
   "cell_type": "code",
   "execution_count": 10,
   "id": "b34930d8-94f5-4e2e-b52d-561d14468a7c",
   "metadata": {},
   "outputs": [
    {
     "data": {
      "text/plain": [
       "complex"
      ]
     },
     "execution_count": 10,
     "metadata": {},
     "output_type": "execute_result"
    }
   ],
   "source": [
    "cn= -1 + 0j\n",
    "type(cn)"
   ]
  },
  {
   "cell_type": "code",
   "execution_count": 12,
   "id": "e355aac0-7d8d-445c-83e7-009b6f421c27",
   "metadata": {},
   "outputs": [
    {
     "name": "stdout",
     "output_type": "stream",
     "text": [
      "<class 'str'>\n",
      "<class 'bool'>\n"
     ]
    },
    {
     "data": {
      "text/plain": [
       "True"
      ]
     },
     "execution_count": 12,
     "metadata": {},
     "output_type": "execute_result"
    }
   ],
   "source": [
    "a= \"123\"\n",
    "print(type(a))\n",
    "b= bool(a)\n",
    "print(type(b))\n",
    "b"
   ]
  },
  {
   "cell_type": "code",
   "execution_count": 58,
   "id": "1e68353b-16c3-425f-9b31-3a8d184b506f",
   "metadata": {},
   "outputs": [
    {
     "name": "stdout",
     "output_type": "stream",
     "text": [
      "<class 'tuple'>\n",
      "<class 'tuple'>\n",
      "<class 'tuple'>\n"
     ]
    }
   ],
   "source": [
    "tup1, tup2, tup3=(\"hello\",), (\"world\",), (\"again\",)\n",
    "print(type(tup1), type(tup2), type(tup3), sep=\"\\n\")"
   ]
  },
  {
   "cell_type": "code",
   "execution_count": 62,
   "id": "69bd439f-4869-4350-b6f0-0e28389868a4",
   "metadata": {},
   "outputs": [
    {
     "data": {
      "text/plain": [
       "str"
      ]
     },
     "execution_count": 62,
     "metadata": {},
     "output_type": "execute_result"
    }
   ],
   "source": [
    "boolean= True\n",
    "st= str(boolean)\n",
    "type(st)"
   ]
  },
  {
   "cell_type": "code",
   "execution_count": 10,
   "id": "00228d2b-1024-47c8-a96f-fc427c2aeecb",
   "metadata": {},
   "outputs": [
    {
     "name": "stdout",
     "output_type": "stream",
     "text": [
      "[[1 2]\n",
      " [3 4]] [[5 6]\n",
      " [7 8]]\n"
     ]
    }
   ],
   "source": [
    "import numpy as np\n",
    "matrix1= np.array(([1,2],[3,4]))\n",
    "matrix2= np.array(([5,6],[7,8]))\n",
    "addition= np.add(matrix1, matrix2)\n",
    "print(matrix1, matrix2)"
   ]
  },
  {
   "cell_type": "code",
   "execution_count": 4,
   "id": "42ed6b87-6ba1-411c-b56e-3e201911d296",
   "metadata": {},
   "outputs": [
    {
     "name": "stdout",
     "output_type": "stream",
     "text": [
      "this has been a good\\nice place to be at\n"
     ]
    }
   ],
   "source": [
    "print(\"this has been a good\\\\nice place to be at\")"
   ]
  },
  {
   "cell_type": "code",
   "execution_count": 6,
   "id": "932f7d12-8c8d-4a2f-b2f0-cf99949e5aec",
   "metadata": {},
   "outputs": [
    {
     "name": "stdout",
     "output_type": "stream",
     "text": [
      "akshay is a good boy\n"
     ]
    }
   ],
   "source": [
    "a= \"he is a good boy\"\n",
    "print(a.replace('he', 'akshay'))"
   ]
  },
  {
   "cell_type": "markdown",
   "id": "782b03fb-42b2-48af-9767-6416db5ad4bd",
   "metadata": {},
   "source": [
    "## UNIT 2"
   ]
  },
  {
   "cell_type": "markdown",
   "id": "9259dfdc-a768-4706-a97a-de826f373f78",
   "metadata": {},
   "source": [
    "LISTS\n"
   ]
  },
  {
   "cell_type": "code",
   "execution_count": 41,
   "id": "c1c710f4-43b4-4e11-b9f2-c9f0be142dd7",
   "metadata": {},
   "outputs": [
    {
     "name": "stdout",
     "output_type": "stream",
     "text": [
      "2\n",
      "['jackson', 2, 4.34, ['michael', 2]]\n",
      "jackson, 2, 4.34, ['michael', 2]\n"
     ]
    }
   ],
   "source": [
    "L= [\"jackson\", 2, 4.34, [\"michael\",2]]\n",
    "print(L[-3])\n",
    "print(L)\n",
    "for x in L:\n",
    "    if x!= L[-1]:\n",
    "        print(x, end=', ')\n",
    "    else:\n",
    "        print(x)"
   ]
  },
  {
   "cell_type": "code",
   "execution_count": 23,
   "id": "03f09b14-5d6c-4b98-a204-23c4d0d8deae",
   "metadata": {},
   "outputs": [
    {
     "name": "stdout",
     "output_type": "stream",
     "text": [
      "['stand', 2, 4.56, 'jackson', 2, 4.34, ['michael', 2]]\n",
      "['stand', 2, 4.56, 'jackson', 2, 4.34, ['michael', 2], 'p', 'o', 'p']\n",
      "['stand', 2, 4.56, 'jackson', 2, 4.34, ['michael', 2], 'p', 'o', 'p', 'star']\n"
     ]
    }
   ],
   "source": [
    "L1= [\"stand\", 2, 4.56]\n",
    "L1.extend(L)\n",
    "print(L1)\n",
    "L1.extend(\"pop\")\n",
    "print(L1)\n",
    "L1.append(\"star\")\n",
    "#L1.remove(\"pop\", \"star\")\n",
    "#print(L1)\n",
    "#del L1[2:4]                                            #removes 4.56 and 'jackson'\n",
    "print(L1)"
   ]
  },
  {
   "cell_type": "code",
   "execution_count": 99,
   "id": "b4e8c974-5d0b-4edf-a865-d21430f04a2f",
   "metadata": {},
   "outputs": [
    {
     "name": "stdout",
     "output_type": "stream",
     "text": [
      "['jackson', 2, 4.34, ['michael', 2]]\n",
      "[1, 'hello', [1, 2, 3], True]\n",
      "['jackson', 2, 4.34, ['michael', 2], 'stand', 2, 2, 4.34, ['michael', 2]]\n"
     ]
    }
   ],
   "source": [
    "L2= L[ : ]\n",
    "print(L2)\n",
    "list1= [1, 'hello', [1,2,3], True]\n",
    "print(list1)\n",
    "print(L+ L1)"
   ]
  },
  {
   "cell_type": "markdown",
   "id": "0e6707ec-d1f8-4279-828c-6b34b7aa171e",
   "metadata": {},
   "source": [
    "PROFIT PERCENTAGE"
   ]
  },
  {
   "cell_type": "code",
   "execution_count": 113,
   "id": "89496bb0-8a71-49f5-a47e-dfa6227b9069",
   "metadata": {},
   "outputs": [
    {
     "name": "stdout",
     "output_type": "stream",
     "text": [
      "Enter Cost price\n"
     ]
    },
    {
     "name": "stdin",
     "output_type": "stream",
     "text": [
      " 25.5\n",
      " 103.3\n",
      " 86.02\n"
     ]
    },
    {
     "name": "stdout",
     "output_type": "stream",
     "text": [
      "Enter Selling price\n"
     ]
    },
    {
     "name": "stdin",
     "output_type": "stream",
     "text": [
      " 40.2\n",
      " 125\n",
      " 91.41\n"
     ]
    },
    {
     "name": "stdout",
     "output_type": "stream",
     "text": [
      "Profit percentage=19.45%\n"
     ]
    }
   ],
   "source": [
    "sp= 0\n",
    "cp= 0\n",
    "print(\"Enter Cost price\")\n",
    "for x in range(0,3):\n",
    "    a= float(input())\n",
    "    cp= cp+a\n",
    "print(\"Enter Selling price\")\n",
    "for x in range(0,3):\n",
    "    a= float(input())\n",
    "    sp= sp+a\n",
    "profit= sp-cp\n",
    "pper= (profit/cp)*100\n",
    "pper= round(pper,2)\n",
    "print(\"Profit percentage=\"+ str(pper)+ \"%\")"
   ]
  },
  {
   "cell_type": "markdown",
   "id": "9cfb34a6-7f18-4605-a5a2-b7a4f4c540b1",
   "metadata": {},
   "source": [
    "MINIMUM OF PRIME NUMBERS TILL 10"
   ]
  },
  {
   "cell_type": "code",
   "execution_count": 3,
   "id": "d8c92ca2-7298-4072-92f3-c699f100b121",
   "metadata": {},
   "outputs": [
    {
     "name": "stdout",
     "output_type": "stream",
     "text": [
      "2\n"
     ]
    }
   ],
   "source": [
    "prime= [2, 3, 5, 7]\n",
    "print(min(prime))"
   ]
  },
  {
   "cell_type": "markdown",
   "id": "9c456a44-d716-4ef2-b6a7-f56dbf06f6d2",
   "metadata": {},
   "source": [
    "TUPLES"
   ]
  },
  {
   "cell_type": "code",
   "execution_count": 6,
   "id": "d218b7b6-09ca-4938-8b4b-ee55741822c0",
   "metadata": {},
   "outputs": [
    {
     "name": "stdout",
     "output_type": "stream",
     "text": [
      "('Linda', 18, ['Math', 'Physics', 'History', 'Computer science'])\n"
     ]
    }
   ],
   "source": [
    "student_info= (\"Linda\", 18, [\"Math\", \"Physics\", \"History\"])\n",
    "student_info[2].append(\"Computer science\")\n",
    "print(student_info)"
   ]
  },
  {
   "cell_type": "markdown",
   "id": "8ee1b730-4d0a-4e5d-84e8-451cd9b23742",
   "metadata": {},
   "source": [
    "Calculate simple interest and amount to be paid after 3 years\n"
   ]
  },
  {
   "cell_type": "code",
   "execution_count": 7,
   "id": "284d5830-4a30-48b6-aeab-aa2a7c9c8fca",
   "metadata": {},
   "outputs": [
    {
     "name": "stdin",
     "output_type": "stream",
     "text": [
      "Enter principal amount:  25000\n",
      "Enter rate:  12\n",
      "Enter time:  3\n"
     ]
    },
    {
     "name": "stdout",
     "output_type": "stream",
     "text": [
      "Amount to be paid:  34000.0\n"
     ]
    }
   ],
   "source": [
    "p= int(input(\"Enter principal amount: \"))\n",
    "r= int(input(\"Enter rate: \"))\n",
    "t= int(input(\"Enter time: \"))\n",
    "si= (p*r*t)/100\n",
    "t_amount= p+si\n",
    "print(\"Amount to be paid: \", t_amount)"
   ]
  },
  {
   "cell_type": "markdown",
   "id": "ca9498ce-1c37-45f9-872c-f74ffb17958f",
   "metadata": {},
   "source": [
    "Program to enter name, age, course, hostel"
   ]
  },
  {
   "cell_type": "code",
   "execution_count": 17,
   "id": "082453ca-a4aa-4f8e-bc16-054c79ea2448",
   "metadata": {},
   "outputs": [
    {
     "name": "stdin",
     "output_type": "stream",
     "text": [
      "Enter name:  Harkeerat\n",
      "Enter age:  18\n",
      "Enter course:  CSE- DATA SCIENCE\n",
      "Enter hostel BH-2\n"
     ]
    },
    {
     "name": "stdout",
     "output_type": "stream",
     "text": [
      "Harkeerat\t18\tCSE- DATA SCIENCE\tBH-2\n"
     ]
    }
   ],
   "source": [
    "name= input(\"Enter name: \")\n",
    "age= int(input('Enter age: '))\n",
    "course= input('Enter course: ')\n",
    "hostel= input('Enter hostel')\n",
    "print(name, age, course, hostel, sep=\"\\t\")"
   ]
  },
  {
   "cell_type": "markdown",
   "id": "e77a36db-1d80-4d0a-b11f-a50bf97b1953",
   "metadata": {},
   "source": [
    "Roots of a quadratic equation\n"
   ]
  },
  {
   "cell_type": "code",
   "execution_count": 24,
   "id": "8b4089da-d337-4305-9ea2-47e06e8470e9",
   "metadata": {},
   "outputs": [
    {
     "name": "stdin",
     "output_type": "stream",
     "text": [
      "Enter coefficient of x^2:  1\n",
      "Enter coefficient of x:  6\n",
      "Enter the constant:  -12\n"
     ]
    },
    {
     "name": "stdout",
     "output_type": "stream",
     "text": [
      "Roots are: 1.5825756949558398-7.58257569495584\n"
     ]
    }
   ],
   "source": [
    "a= int(input(\"Enter coefficient of x^2: \"))\n",
    "b= int(input(\"Enter coefficient of x: \"))\n",
    "c= int(input(\"Enter the constant: \"))\n",
    "d= (pow(b,2))-(4*a*c)\n",
    "if(d<0):\n",
    "    print(\"Roots are complex\")\n",
    "    sys.exit()\n",
    "root1= ((-b) + (pow(d,0.5)))/2\n",
    "root2= ((-b) - (pow(d,0.5)))/2\n",
    "print(\"Roots are: \"+ str(root1)+ str(root2))"
   ]
  },
  {
   "cell_type": "code",
   "execution_count": 30,
   "id": "52edb938-5244-492d-8553-3ba7a4023b83",
   "metadata": {},
   "outputs": [
    {
     "name": "stdout",
     "output_type": "stream",
     "text": [
      "True\n"
     ]
    }
   ],
   "source": [
    "tup= (\"he\", 'is', 'a', 'good', 'boy')\n",
    "print('is' in tup)"
   ]
  },
  {
   "cell_type": "code",
   "execution_count": 34,
   "id": "9126f470-3ebe-4acc-8973-1202787063f6",
   "metadata": {},
   "outputs": [
    {
     "name": "stdout",
     "output_type": "stream",
     "text": [
      "rahul\n"
     ]
    }
   ],
   "source": [
    "li= [\"rahul\", \"rnul\"]\n",
    "print(min(li))"
   ]
  },
  {
   "cell_type": "markdown",
   "id": "7895590c-3891-482f-a351-b23b292c8468",
   "metadata": {},
   "source": [
    "SETS"
   ]
  },
  {
   "cell_type": "code",
   "execution_count": 25,
   "id": "9f4d8606-8925-41c6-91a5-55cd5087999e",
   "metadata": {},
   "outputs": [
    {
     "name": "stdout",
     "output_type": "stream",
     "text": [
      "{'apple', 'banana'}\n",
      "{'apple', 'banana', 12}\n",
      "{'banana'}\n",
      "{'apple'}\n",
      "{'apple', 'banana', 'grapes', 'orange'}\n"
     ]
    }
   ],
   "source": [
    "lfset= ['banana', 'apple']\n",
    "set1= set(lfset)\n",
    "print(set1)\n",
    "set1.add(12)\n",
    "print(set1)\n",
    "set1.remove(12)\n",
    "set2= {'orange', 'banana', 'grapes'}\n",
    "\n",
    "print(set1.intersection(set2))\n",
    "print(set1.difference(set2))\n",
    "print(set1.union(set2))"
   ]
  },
  {
   "cell_type": "code",
   "execution_count": 47,
   "id": "a50a3669-addc-4a0e-bc53-9092bb8398b9",
   "metadata": {},
   "outputs": [
    {
     "name": "stdout",
     "output_type": "stream",
     "text": [
      "None\n",
      "<class 'NoneType'>\n"
     ]
    }
   ],
   "source": [
    "x= set()\n",
    "x= None\n",
    "print(x)\n",
    "print(type(x))"
   ]
  },
  {
   "cell_type": "markdown",
   "id": "f4b376be-b10d-4d18-b16a-a214af510d65",
   "metadata": {},
   "source": [
    "DICTIONARY"
   ]
  },
  {
   "cell_type": "code",
   "execution_count": 23,
   "id": "bce8f0b0-908e-4b77-966f-f59282348983",
   "metadata": {},
   "outputs": [
    {
     "name": "stdout",
     "output_type": "stream",
     "text": [
      "{1: 'John', 2: 'Brown', 3: 'Moana', 'Hello': 'Gigi', 5: [6, (4, 'hello', True)], (6, 7, 'hi'): 'Fire'}\n",
      "<class 'dict'>\n",
      "[6, (4, 'hello', True)]\n"
     ]
    }
   ],
   "source": [
    "dic= {1:'John', 2:'Brown', 3:'Moana', 'Hello':'Gigi', 5: [6,(4,\"hello\",True)], (6,7,'hi'): \"Fire\"}\n",
    "print(dic)\n",
    "print(type(dic))\n",
    "print(dic[5])"
   ]
  },
  {
   "cell_type": "code",
   "execution_count": 43,
   "id": "fb2e1b6b-e327-4d7f-9b63-f8c7f9e4736a",
   "metadata": {},
   "outputs": [
    {
     "name": "stdout",
     "output_type": "stream",
     "text": [
      "{1: 'John', 2: 'Brown', 3: 'Michael', 'Hello': 'Gigi', 5: [6, (4, 'hello', True)], (6, 7, 'hi'): 'Fire', 'valve': '18 inch'}\n",
      "{1: 'John', 2: 'Brown', 3: 'Michael', 'Hello': 'Gigi', 5: [6, (4, 'hello', True)], (6, 7, 'hi'): 'Fire'}\n"
     ]
    }
   ],
   "source": [
    "dic['valve']= '18 inch'\n",
    "print(dic)\n",
    "dic[3]= 'Michael'\n",
    "del(dic['valve'])\n",
    "print(dic)"
   ]
  },
  {
   "cell_type": "code",
   "execution_count": 57,
   "id": "2ee8a259-3936-4ae9-a60d-aa41174d3c24",
   "metadata": {},
   "outputs": [
    {
     "name": "stdout",
     "output_type": "stream",
     "text": [
      "dict_values(['1992', '1997'])\n",
      "dict_keys(['The Bodyguard', 'Saturday Night Fever'])\n"
     ]
    }
   ],
   "source": [
    "soundtrack_dic= {'The Bodyguard' : \"1992\", \"Saturday Night Fever\" : \"1997\"}\n",
    "print(soundtrack_dic.values())\n",
    "print(soundtrack_dic.keys())"
   ]
  },
  {
   "cell_type": "code",
   "execution_count": 65,
   "id": "be78df63-301f-49f4-bbac-d473c25d3ab0",
   "metadata": {},
   "outputs": [
    {
     "data": {
      "text/plain": [
       "'30 Million'"
      ]
     },
     "execution_count": 65,
     "metadata": {},
     "output_type": "execute_result"
    }
   ],
   "source": [
    "album_sales_dict= {'Four Me' : '50 Million', 'Four You': \"20 Million\", \"Making Memories\": '30 Million'}\n",
    "album_sales_dict['Making Memories']"
   ]
  },
  {
   "cell_type": "markdown",
   "id": "7616479f-a5d6-46a5-864e-09a636943550",
   "metadata": {},
   "source": [
    "LOGICAL OPERATORS"
   ]
  },
  {
   "cell_type": "code",
   "execution_count": 83,
   "id": "be700002-a676-4dc8-8a5e-86eab683da02",
   "metadata": {},
   "outputs": [
    {
     "name": "stdout",
     "output_type": "stream",
     "text": [
      "False\n"
     ]
    }
   ],
   "source": [
    "x, y= 5, 10\n",
    "print(not(x != y))"
   ]
  },
  {
   "cell_type": "code",
   "execution_count": 79,
   "id": "3180db85-f51f-4750-a206-50d97bdde3b2",
   "metadata": {},
   "outputs": [
    {
     "name": "stdin",
     "output_type": "stream",
     "text": [
      "Enter year: 2000\n"
     ]
    },
    {
     "name": "stdout",
     "output_type": "stream",
     "text": [
      "True\n"
     ]
    }
   ],
   "source": [
    "year= int(input(\"Enter year:\"))\n",
    "print(year%4==0 and year%100!=0 or year%400==0)"
   ]
  },
  {
   "cell_type": "code",
   "execution_count": 87,
   "id": "9bee7c17-51a3-40f9-9b26-3d9fe48eeb37",
   "metadata": {},
   "outputs": [
    {
     "data": {
      "text/plain": [
       "True"
      ]
     },
     "execution_count": 87,
     "metadata": {},
     "output_type": "execute_result"
    }
   ],
   "source": [
    "z= 0\n",
    "z<1<6"
   ]
  },
  {
   "cell_type": "code",
   "execution_count": 93,
   "id": "28b2c8f3-c47b-4244-b139-b6083b8c8e38",
   "metadata": {},
   "outputs": [
    {
     "name": "stdout",
     "output_type": "stream",
     "text": [
      "True\n",
      "False\n"
     ]
    }
   ],
   "source": [
    "print(bool(9))\n",
    "print(bool(0))"
   ]
  },
  {
   "cell_type": "markdown",
   "id": "b03924a4-5c87-4bed-a875-4f32c9f26223",
   "metadata": {},
   "source": [
    "CONDITIONAL STATEMENTS"
   ]
  },
  {
   "cell_type": "code",
   "execution_count": 101,
   "id": "588898ba-8419-4ea5-bc36-d89b48a3dfe2",
   "metadata": {},
   "outputs": [
    {
     "name": "stdin",
     "output_type": "stream",
     "text": [
      " 6\n"
     ]
    },
    {
     "name": "stdout",
     "output_type": "stream",
     "text": [
      "hello\n"
     ]
    }
   ],
   "source": [
    "numb= int(input())\n",
    "if numb<3:\n",
    "    print('hi')\n",
    "else:\n",
    "    print('hello')"
   ]
  },
  {
   "cell_type": "code",
   "execution_count": 103,
   "id": "fba3c1a3-f501-4f29-bdce-49f6a67ebf79",
   "metadata": {},
   "outputs": [
    {
     "name": "stdin",
     "output_type": "stream",
     "text": [
      " 2400\n"
     ]
    },
    {
     "name": "stdout",
     "output_type": "stream",
     "text": [
      "Leap Year\n"
     ]
    }
   ],
   "source": [
    "year= int(input(\"Enter Year\"))\n",
    "if(year%4==0 and year%100!=0 or year%400==0):\n",
    "    print(\"Leap Year\")\n",
    "else:\n",
    "    print(\"Not a leap year\")"
   ]
  },
  {
   "cell_type": "code",
   "execution_count": 6,
   "id": "b58c6ba2-8572-48af-9480-2501db2a4915",
   "metadata": {},
   "outputs": [
    {
     "name": "stdin",
     "output_type": "stream",
     "text": [
      "Enter Weight: 20\n"
     ]
    },
    {
     "name": "stdout",
     "output_type": "stream",
     "text": [
      "The weight falls within our limits \n",
      "Thank you for using this service\n"
     ]
    }
   ],
   "source": [
    "wt= int(input(\"Enter Weight:\"))\n",
    "if(wt>23):\n",
    "    print(\"Overweight\")\n",
    "else:\n",
    "    print(\"The weight falls within our limits \\nThank you for using this service\")"
   ]
  },
  {
   "cell_type": "code",
   "execution_count": 109,
   "id": "8076b2e1-7500-4039-9016-f7860af2e575",
   "metadata": {},
   "outputs": [
    {
     "name": "stdin",
     "output_type": "stream",
     "text": [
      "Enter marks: 50\n"
     ]
    },
    {
     "name": "stdout",
     "output_type": "stream",
     "text": [
      "Passed\n"
     ]
    }
   ],
   "source": [
    "marks= int(input(\"Enter marks:\"))\n",
    "if(marks == 100):\n",
    "    print(\"Perfect Score\")\n",
    "elif(marks >40):\n",
    "    print('Passed')\n",
    "else:\n",
    "    print(\"Failed\")"
   ]
  },
  {
   "cell_type": "code",
   "execution_count": 113,
   "id": "f0dc32df-8b82-4a48-986f-35e26630af0e",
   "metadata": {},
   "outputs": [
    {
     "name": "stdin",
     "output_type": "stream",
     "text": [
      "Enter age: 19\n"
     ]
    },
    {
     "name": "stdout",
     "output_type": "stream",
     "text": [
      "Eligible for card\n"
     ]
    }
   ],
   "source": [
    "age= int(input(\"Enter age:\"))\n",
    "if(age>18 or age==18):\n",
    "    print(\"Eligible for card\")\n",
    "else:\n",
    "    print('Ineligible for card')"
   ]
  },
  {
   "cell_type": "code",
   "execution_count": 117,
   "id": "a528e7d4-8dec-4c94-927f-0a035df952f0",
   "metadata": {},
   "outputs": [
    {
     "name": "stdin",
     "output_type": "stream",
     "text": [
      "Enter number of days: 18\n"
     ]
    },
    {
     "name": "stdout",
     "output_type": "stream",
     "text": [
      "Fine of Rs. 30 has been applied to your account\n"
     ]
    }
   ],
   "source": [
    "days= int(input('Enter number of days:'))\n",
    "if(days>15):\n",
    "    fine= 10* (days-15)\n",
    "    print(\"Fine of Rs.\", fine, \"has been applied to your account\")\n",
    "else:\n",
    "    print('No fine')"
   ]
  },
  {
   "cell_type": "code",
   "execution_count": 8,
   "id": "21dd682e-4fb4-4c76-a3cf-eaa0c7a4ca0a",
   "metadata": {},
   "outputs": [
    {
     "name": "stdin",
     "output_type": "stream",
     "text": [
      "Enter a number:  5\n"
     ]
    },
    {
     "name": "stdout",
     "output_type": "stream",
     "text": [
      "5 is an odd number\n"
     ]
    }
   ],
   "source": [
    "num= int(input(\"Enter a number: \"))\n",
    "if(num%2 == 0):\n",
    "    print(num, \"is an even number\")\n",
    "else:\n",
    "    print(num, \"is an odd number\")"
   ]
  },
  {
   "cell_type": "code",
   "execution_count": 18,
   "id": "323e13f6-d95b-4246-9d6d-8c7c86a247f1",
   "metadata": {},
   "outputs": [
    {
     "name": "stdin",
     "output_type": "stream",
     "text": [
      "Enter two numbers separated by space 5 6\n"
     ]
    },
    {
     "name": "stdout",
     "output_type": "stream",
     "text": [
      "6 > 5\n"
     ]
    }
   ],
   "source": [
    "a,b= map(int, input('Enter two numbers separated by space').split())\n",
    "if(a>b):\n",
    "    print(a,'>',b)\n",
    "else:\n",
    "    print(b,'>',a)"
   ]
  },
  {
   "cell_type": "code",
   "execution_count": null,
   "id": "dca12b4e-6251-4bcf-8c4b-71fa3d007ece",
   "metadata": {},
   "outputs": [],
   "source": [
    "import datetime\n",
    "                                "
   ]
  },
  {
   "cell_type": "code",
   "execution_count": 3,
   "id": "d6b48700-4fac-4ec2-9153-23f868ded1c5",
   "metadata": {},
   "outputs": [
    {
     "name": "stdin",
     "output_type": "stream",
     "text": [
      "Enter your age 18\n"
     ]
    },
    {
     "name": "stdout",
     "output_type": "stream",
     "text": [
      "You are old enough to drive\n"
     ]
    }
   ],
   "source": [
    "age= int(input('Enter your age'))\n",
    "if(age>18 or age==18):\n",
    "         print('You are old enough to drive')\n",
    "else:\n",
    "    print(\"Wait till you turn 18\")"
   ]
  },
  {
   "cell_type": "markdown",
   "id": "cd294fd4-c718-455f-8f0d-496e950c32e6",
   "metadata": {},
   "source": [
    "LOOP CONTROL STATEMENTS\n"
   ]
  },
  {
   "cell_type": "code",
   "execution_count": 17,
   "id": "a5b0b0bf-fda6-4190-bdb2-4744716976d5",
   "metadata": {},
   "outputs": [
    {
     "name": "stdout",
     "output_type": "stream",
     "text": [
      "10\n",
      "9\n",
      "8\n",
      "7\n",
      "6\n",
      "5\n",
      "4\n",
      "3\n",
      "2\n",
      "1\n",
      "Happy New Year!!\n"
     ]
    }
   ],
   "source": [
    "import time\n",
    "n=10\n",
    "while(n!=0):\n",
    "    print(n)\n",
    "    time.sleep(1)\n",
    "    n -= 1\n",
    "print('Happy New Year!!')"
   ]
  },
  {
   "cell_type": "code",
   "execution_count": 15,
   "id": "3a1d030a-a739-4661-a5b9-ae6ebabb5702",
   "metadata": {},
   "outputs": [
    {
     "name": "stdin",
     "output_type": "stream",
     "text": [
      "Till which natural number do you want sum upto? 5\n"
     ]
    },
    {
     "name": "stdout",
     "output_type": "stream",
     "text": [
      "Sum of 5 natural numbers is 15\n"
     ]
    }
   ],
   "source": [
    "n= int(input(\"Till which natural number do you want sum upto?\"))\n",
    "sum,i = 0,1\n",
    "while(i<n+1):\n",
    "    sum= sum+i\n",
    "    i= i+1\n",
    "print('Sum of', n, 'natural numbers is', sum)"
   ]
  },
  {
   "cell_type": "code",
   "execution_count": 21,
   "id": "32a4cb82-4b42-4345-bf66-4fbcb3fd323e",
   "metadata": {},
   "outputs": [
    {
     "name": "stdin",
     "output_type": "stream",
     "text": [
      "Enter number whose factorial is to be found: 5\n"
     ]
    },
    {
     "name": "stdout",
     "output_type": "stream",
     "text": [
      "Factorial of 5 is 120\n"
     ]
    }
   ],
   "source": [
    "num= int(input('Enter number whose factorial is to be found:'))\n",
    "fact= 1\n",
    "ini=num\n",
    "if(num==0):\n",
    "    print('Factorial of', n, 'is 1')\n",
    "elif(num<0):\n",
    "    print('Invalid input')\n",
    "else:\n",
    "    while(num!=0):\n",
    "        fact= fact*num\n",
    "        num = num-1\n",
    "    print('Factorial of', ini, 'is', fact)"
   ]
  },
  {
   "cell_type": "code",
   "execution_count": 29,
   "id": "359eae2d-83b7-4020-b2b7-b89e28c516de",
   "metadata": {},
   "outputs": [
    {
     "name": "stdin",
     "output_type": "stream",
     "text": [
      "Enter a string hello\n"
     ]
    },
    {
     "name": "stdout",
     "output_type": "stream",
     "text": [
      "h e l l o "
     ]
    }
   ],
   "source": [
    "st= input('Enter a string')\n",
    "l1= list(st)\n",
    "for x in l1:\n",
    "    print(x, end=' ')"
   ]
  },
  {
   "cell_type": "code",
   "execution_count": 53,
   "id": "eb94eb8a-f32b-4502-9e98-796c37a10831",
   "metadata": {},
   "outputs": [
    {
     "name": "stdout",
     "output_type": "stream",
     "text": [
      "1 John\t||\t2 Brown\t||\t3 Moana\t||\t4 Gigi\t||\t5 [6, (4, 'hello', True)]\t||\t(6, 7, 'hi') Fire\t||\t"
     ]
    }
   ],
   "source": [
    "dic= {1:'John', \t\t\n",
    "      2:'Brown', \t\n",
    "      3:'Moana',\t \n",
    "      4:'Gigi', \t  \n",
    "      5: [6,(4,\"hello\",True)], \t\n",
    "      (6,7,'hi'): \"Fire\"}\n",
    "for key, val in dic.items():\n",
    "    print(key, val, end='\\t||\\t')\n",
    "for x in dic.keys()"
   ]
  },
  {
   "cell_type": "code",
   "execution_count": 67,
   "id": "9636ae4c-941d-4272-bb70-0a5b064f5797",
   "metadata": {},
   "outputs": [
    {
     "name": "stdout",
     "output_type": "stream",
     "text": [
      "i : -1\n",
      "o : -2\n",
      "p : -3\n",
      "Doe : -4\n",
      "John : -5\n"
     ]
    }
   ],
   "source": [
    "name = [\"John\", \"Doe\", \"p\", \"o\", \"i\"]\n",
    "for i in range(-1, -len(name)-1, -1):\n",
    "    print(name[i], ':', i)"
   ]
  },
  {
   "cell_type": "code",
   "execution_count": 71,
   "id": "0e5127d6-323e-4250-9107-993ccfe3b000",
   "metadata": {},
   "outputs": [
    {
     "name": "stdout",
     "output_type": "stream",
     "text": [
      "*\n",
      "**\n",
      "***\n",
      "****\n",
      "*****\n"
     ]
    }
   ],
   "source": [
    "for i in range(1,6):\n",
    "    for j in range(1,i+1):\n",
    "        print('*', end='')\n",
    "    print()"
   ]
  },
  {
   "cell_type": "code",
   "execution_count": 17,
   "id": "cea4ef9d-dca0-4652-b955-491334a44c3b",
   "metadata": {},
   "outputs": [
    {
     "name": "stdout",
     "output_type": "stream",
     "text": [
      "x is currently: 0\n",
      "x is still less than 25, adding 1 to x\n",
      "x is currently: 1\n",
      "x is still less than 25, adding 1 to x\n",
      "x is currently: 2\n",
      "x is still less than 25, adding 1 to x\n",
      "x is currently: 3\n",
      "x is still less than 25, adding 1 to x\n",
      "x is currently: 4\n",
      "x is still less than 25, adding 1 to x\n",
      "x is currently: 5\n",
      "x is still less than 25, adding 1 to x\n",
      "x is currently: 6\n",
      "x is still less than 25, adding 1 to x\n",
      "x is currently: 7\n",
      "x is still less than 25, adding 1 to x\n",
      "x is currently: 8\n",
      "x is still less than 25, adding 1 to x\n",
      "x is currently: 9\n",
      "x is still less than 25, adding 1 to x\n",
      "x is currently: 10\n",
      "x is still less than 25, adding 1 to x\n",
      "x is currently: 11\n",
      "x is still less than 25, adding 1 to x\n",
      "x is currently: 12\n",
      "x is still less than 25, adding 1 to x\n",
      "x is currently: 13\n",
      "x is still less than 25, adding 1 to x\n",
      "x is currently: 14\n",
      "x is still less than 25, adding 1 to x\n",
      "x = 10\n"
     ]
    }
   ],
   "source": [
    "x = 0 \n",
    "\n",
    "while x < 25:\n",
    "    print(f\"x is currently: {x}\")\n",
    "    print(f\"x is still less than 25, adding 1 to x\")\n",
    "    x += 1\n",
    "    if x==15:\n",
    "        print(\"x = 10\")\n",
    "        break\n",
    "    elif(i==4):\n",
    "        print(\"continuing...\")\n",
    "        continue                                              #continue is used in a condition only"
   ]
  },
  {
   "cell_type": "markdown",
   "id": "36c1d9c1-1ccb-437b-9622-815c9cbd8c77",
   "metadata": {},
   "source": [
    "## Functions"
   ]
  },
  {
   "cell_type": "code",
   "execution_count": 62,
   "id": "d98832a3-4775-445b-a36d-f63c6f00bf3f",
   "metadata": {},
   "outputs": [
    {
     "name": "stdout",
     "output_type": "stream",
     "text": [
      "<function greet at 0x0000021D3865A3E0>\n",
      "Hello world Jose\n"
     ]
    },
    {
     "data": {
      "text/plain": [
       "<function __main__.hello()>"
      ]
     },
     "execution_count": 62,
     "metadata": {},
     "output_type": "execute_result"
    }
   ],
   "source": [
    "def greet(name):\n",
    "    print('Hello world', name)\n",
    "def hello():\n",
    "    print('Hi')\n",
    "print(greet)\n",
    "greet('Jose')\n",
    "hello                                             # calling fn without () only works when written in the last line otherwise no effect"
   ]
  },
  {
   "cell_type": "code",
   "execution_count": 72,
   "id": "a5bdbfd3-8b99-482a-b63e-f209d459c418",
   "metadata": {},
   "outputs": [
    {
     "name": "stdout",
     "output_type": "stream",
     "text": [
      "B\n"
     ]
    },
    {
     "data": {
      "text/plain": [
       "'B'"
      ]
     },
     "execution_count": 72,
     "metadata": {},
     "output_type": "execute_result"
    }
   ],
   "source": [
    "def larger_find(n1,n2):\n",
    "    if(n1>n2):\n",
    "        return n1\n",
    "    else:\n",
    "        return n2\n",
    "print(larger_find('A','B'))\n",
    "larger_find('A', 'B')"
   ]
  },
  {
   "cell_type": "code",
   "execution_count": 74,
   "id": "b6471c91-9f62-4a85-81a1-f8114764fc2f",
   "metadata": {},
   "outputs": [
    {
     "name": "stdout",
     "output_type": "stream",
     "text": [
      "15\n"
     ]
    }
   ],
   "source": [
    "def addition(n1,n2):\n",
    "    return(n1+n2)\n",
    "add= addition(5,10)\n",
    "print(add)v"
   ]
  },
  {
   "cell_type": "code",
   "execution_count": 86,
   "id": "49d8231f-c60d-49c5-83ce-1a6950454059",
   "metadata": {},
   "outputs": [
    {
     "name": "stdout",
     "output_type": "stream",
     "text": [
      "15\n",
      "None\n"
     ]
    }
   ],
   "source": [
    "def addition(n1,n2):\n",
    "    print(n1+n2)\n",
    "add=addition(10,5)\n",
    "print(add)"
   ]
  },
  {
   "cell_type": "code",
   "execution_count": 88,
   "id": "54ad85b4-1de6-46aa-aab4-d3923ab83f73",
   "metadata": {},
   "outputs": [
    {
     "name": "stdout",
     "output_type": "stream",
     "text": [
      "True\n"
     ]
    }
   ],
   "source": [
    "def even(n1):\n",
    "    if(n1%2==0):\n",
    "        return True\n",
    "if(even(56)):\n",
    "    print(True)"
   ]
  },
  {
   "cell_type": "code",
   "execution_count": 141,
   "id": "f73bfa9c-0b7f-44de-929b-0b3c89133386",
   "metadata": {},
   "outputs": [
    {
     "data": {
      "text/plain": [
       "[24, 25]"
      ]
     },
     "execution_count": 141,
     "metadata": {},
     "output_type": "execute_result"
    }
   ],
   "source": [
    "def eve(l1):\n",
    "    sum= 0\n",
    "    for i in l1:\n",
    "        sum=sum+i\n",
    "    mean=sum/len(l1)\n",
    "    big_mean= [i for i in l1 if i>mean]\n",
    "    return big_mean\n",
    "l1= [21, 22, 24, 25]\n",
    "eve(l1)"
   ]
  },
  {
   "cell_type": "code",
   "execution_count": 150,
   "id": "b3ac6cf9-07e6-454d-99bb-aabc5ed3ed14",
   "metadata": {},
   "outputs": [
    {
     "data": {
      "text/plain": [
       "5050"
      ]
     },
     "execution_count": 150,
     "metadata": {},
     "output_type": "execute_result"
    }
   ],
   "source": [
    "def summation():\n",
    "    sum=0\n",
    "    for i in range(0,101):\n",
    "        sum=sum+i\n",
    "    return sum\n",
    "summation()"
   ]
  },
  {
   "cell_type": "markdown",
   "id": "b6db6364-2569-46ad-9d05-4efeb12bb938",
   "metadata": {},
   "source": [
    "METHODS"
   ]
  },
  {
   "cell_type": "code",
   "execution_count": 7,
   "id": "f313262b-a800-49a7-a117-e948f11ae2e3",
   "metadata": {},
   "outputs": [
    {
     "data": {
      "text/plain": [
       "1"
      ]
     },
     "execution_count": 7,
     "metadata": {},
     "output_type": "execute_result"
    }
   ],
   "source": [
    "name= ['joe', 'milkie', 'jason']\n",
    "L= [21, 24, True]\n",
    "name.append('michael')\t\t\t\t\t# only takes 1 argument; adds only a single element even if it is a list, whole list is added as single element\n",
    "name.count('joe')                       # counts the number of times a particular items occurs in the iterable\n",
    "name.insert(2, 'forty')\n",
    "name.remove('joe')\t\t\t\t\t\t#for multiple similar items, first occurrence is removed, takes only 1 argument\n",
    "name.pop()\t\t\t\t\t\t\t\t#removes item at last index\n",
    "del name[2]\t\t\t\t\t\t\t    #removes item at that index, can also be used to delete whole list. We can also pass a range in argument\n",
    "del name\t\t\t\t\t\t\t\t#deletes list\n",
    "name.index('milkie')\t\t\t\t\t#returns the index of the item\n",
    "name.extend(L)\t\t\t\t\t\t\t#adds multiple elements to a list as a single entity;  only takes 1 \n",
    "name.clear()\t\t\t\t\t\t\t#clears whole list"
   ]
  },
  {
   "cell_type": "markdown",
   "id": "e5f30b8c-965e-4b6e-83ac-a8ccb1f5d6bd",
   "metadata": {},
   "source": [
    "LAMBDA EXPRESSIONS, MAP, and FILTER"
   ]
  },
  {
   "cell_type": "code",
   "execution_count": 10,
   "id": "07ae628d-ec02-45eb-92a4-ddca6b44ec6f",
   "metadata": {},
   "outputs": [],
   "source": [
    "# The map function is allows you to map a function to an iterable object. Using it you can quickly call the same function to every item in an iterable"
   ]
  },
  {
   "cell_type": "code",
   "execution_count": 7,
   "id": "f797f6e2-1f8c-4658-8874-f010195b7a94",
   "metadata": {},
   "outputs": [
    {
     "name": "stdout",
     "output_type": "stream",
     "text": [
      "[3, 5, 7, 9, 11, 13, 15, 17, 19, 21, 23, 25, 27, 29, 31, 33, 35, 37, 39, 41, 43, 45, 47, 49, 51, 53, 55, 57, 59, 61, 63, 65, 67, 69, 71, 73, 75, 77, 79, 81, 83, 85, 87, 89, 91, 93, 95, 97, 99]\n"
     ]
    }
   ],
   "source": [
    "nums= [ i for i in range(1, 101)]\n",
    "\n",
    "def prime(number):\n",
    "    for j in range(2, number):\n",
    "        if(number%j != 0):\n",
    "             return True\n",
    "        else:\n",
    "            return False\n",
    "\n",
    "a = list(filter(prime, nums))\n",
    "print(a)"
   ]
  },
  {
   "cell_type": "markdown",
   "id": "d282d07f-4d06-4c98-8c6b-155d33cca18c",
   "metadata": {},
   "source": [
    "Write a function that computes the volume of a sphere given its radius "
   ]
  },
  {
   "cell_type": "code",
   "execution_count": 65,
   "id": "c6ec4f05-f959-4568-91b6-93b33e24d9a2",
   "metadata": {},
   "outputs": [
    {
     "name": "stdin",
     "output_type": "stream",
     "text": [
      " 5\n"
     ]
    },
    {
     "data": {
      "text/plain": [
       "523.5987755982989"
      ]
     },
     "execution_count": 65,
     "metadata": {},
     "output_type": "execute_result"
    }
   ],
   "source": [
    "import math\n",
    "radius= int(input())\n",
    "def vol(r):\n",
    "    return((4*math.pi*r*r*r)/3)\n",
    "vol(radius)"
   ]
  },
  {
   "cell_type": "markdown",
   "id": "f5a0fed2-a4f3-48ed-ab7b-9dabf268e4e8",
   "metadata": {},
   "source": [
    "Write a function that cheks whether a number is in a given range(inclusive of high and low)"
   ]
  },
  {
   "cell_type": "code",
   "execution_count": 86,
   "id": "05bee948-2696-4037-a59a-33d22193f5f1",
   "metadata": {},
   "outputs": [
    {
     "name": "stdin",
     "output_type": "stream",
     "text": [
      "High: 100\n",
      "Low: 1\n",
      "Number to be checked: 5\n"
     ]
    },
    {
     "name": "stdout",
     "output_type": "stream",
     "text": [
      "True\n"
     ]
    }
   ],
   "source": [
    "high= int(input('High:'))\n",
    "low= int(input('Low:'))\n",
    "check= int(input('Number to be checked:'))\n",
    "\n",
    "def ranging(upper, lower, num):\n",
    "    print(num>= lower and num<= upper)\n",
    "\n",
    "ranging(high, low, check)"
   ]
  },
  {
   "cell_type": "code",
   "execution_count": 88,
   "id": "62700bc2-7753-41be-ae7b-71bf2ca3c7d2",
   "metadata": {},
   "outputs": [
    {
     "name": "stdin",
     "output_type": "stream",
     "text": [
      " HeLLo WoRlD\n"
     ]
    },
    {
     "name": "stdout",
     "output_type": "stream",
     "text": [
      "6\n",
      "4\n"
     ]
    }
   ],
   "source": [
    "str= input()\n",
    "upper, lower= 0, 0\n",
    "for i in str:\n",
    "    if(i.isupper()):\n",
    "        upper= upper+1\n",
    "    elif(i.islower()):\n",
    "        lower= lower+1\n",
    "print(upper, lower, sep='\\n')"
   ]
  }
 ],
 "metadata": {
  "kernelspec": {
   "display_name": "Python 3 (ipykernel)",
   "language": "python",
   "name": "python3"
  },
  "language_info": {
   "codemirror_mode": {
    "name": "ipython",
    "version": 3
   },
   "file_extension": ".py",
   "mimetype": "text/x-python",
   "name": "python",
   "nbconvert_exporter": "python",
   "pygments_lexer": "ipython3",
   "version": "3.12.4"
  }
 },
 "nbformat": 4,
 "nbformat_minor": 5
}
